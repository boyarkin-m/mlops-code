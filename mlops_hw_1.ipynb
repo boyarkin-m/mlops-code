{
 "cells": [
  {
   "cell_type": "code",
   "execution_count": 2,
   "id": "c2f5c3a1",
   "metadata": {},
   "outputs": [],
   "source": [
    "import pandas as pd\n",
    "import seaborn as sns\n",
    "import matplotlib.pyplot as plt \n",
    "from sklearn.feature_extraction import DictVectorizer\n",
    "from sklearn.linear_model import LinearRegression, Lasso, Ridge\n",
    "from sklearn.metrics import mean_squared_error\n",
    "import pickle"
   ]
  },
  {
   "cell_type": "code",
   "execution_count": 64,
   "id": "9f04c05f",
   "metadata": {},
   "outputs": [
    {
     "data": {
      "text/plain": [
       "1154112"
      ]
     },
     "execution_count": 64,
     "metadata": {},
     "output_type": "execute_result"
    }
   ],
   "source": [
    "filename = 'data/fhv_tripdata_2021-01.parquet'\n",
    "df = pd.read_parquet(filename)\n",
    "df.shape[0]"
   ]
  },
  {
   "cell_type": "markdown",
   "id": "dad1ae12",
   "metadata": {},
   "source": [
    "Number of records is 1154112 "
   ]
  },
  {
   "cell_type": "code",
   "execution_count": 65,
   "id": "25f3cbb5",
   "metadata": {},
   "outputs": [
    {
     "data": {
      "text/plain": [
       "19.1672240937939"
      ]
     },
     "execution_count": 65,
     "metadata": {},
     "output_type": "execute_result"
    }
   ],
   "source": [
    "df['duration'] = df['dropOff_datetime'] - df['pickup_datetime']\n",
    "df['duration'] = df['duration'].apply(lambda td: td.total_seconds()/60)\n",
    "df['duration'].mean()"
   ]
  },
  {
   "cell_type": "markdown",
   "id": "bbad5bcd",
   "metadata": {},
   "source": [
    "Average trip duration is 19.16"
   ]
  },
  {
   "cell_type": "code",
   "execution_count": 66,
   "id": "7814c45c",
   "metadata": {},
   "outputs": [
    {
     "data": {
      "text/plain": [
       "44286"
      ]
     },
     "execution_count": 66,
     "metadata": {},
     "output_type": "execute_result"
    }
   ],
   "source": [
    "len(df[(df['duration'] < 1) | (df['duration'] > 60)])"
   ]
  },
  {
   "cell_type": "markdown",
   "id": "697563d5",
   "metadata": {},
   "source": [
    "Outliers records to drop is 44286"
   ]
  },
  {
   "cell_type": "code",
   "execution_count": 67,
   "id": "903325c8",
   "metadata": {},
   "outputs": [
    {
     "data": {
      "text/plain": [
       "0.8352732770722617"
      ]
     },
     "execution_count": 67,
     "metadata": {},
     "output_type": "execute_result"
    }
   ],
   "source": [
    "df = df[(df['duration'] >=1) & (df['duration'] <=60)]\n",
    "df = df[['PUlocationID', 'DOlocationID','duration']]\n",
    "df = df.fillna(value=-1)\n",
    "(df['PUlocationID'] == -1).mean()"
   ]
  },
  {
   "cell_type": "markdown",
   "id": "78ec31ef",
   "metadata": {},
   "source": [
    "Fractions of missing values for the pickup location ID is 83%"
   ]
  },
  {
   "cell_type": "code",
   "execution_count": 68,
   "id": "ab3348ef",
   "metadata": {},
   "outputs": [],
   "source": [
    "def read_dataframe(filename):\n",
    "    df = pd.read_parquet(filename)\n",
    "    df['duration'] = df['dropOff_datetime'] - df['pickup_datetime']\n",
    "    df['duration'] = df['duration'].apply(lambda td: td.total_seconds()/60)\n",
    "    df = df[(df['duration'] >=1) & (df['duration'] <=60)]\n",
    "    df = df[['PUlocationID', 'DOlocationID','duration']]\n",
    "    df = df.fillna(value=-1)\n",
    "    categorical = ['PUlocationID', 'DOlocationID']\n",
    "    df[categorical] = df[categorical].astype(str)\n",
    "    return df"
   ]
  },
  {
   "cell_type": "code",
   "execution_count": 69,
   "id": "a9d8e65b",
   "metadata": {},
   "outputs": [],
   "source": [
    "df_train = read_dataframe('./data/fhv_tripdata_2021-01.parquet')\n",
    "df_val = read_dataframe('./data/fhv_tripdata_2021-02.parquet')"
   ]
  },
  {
   "cell_type": "code",
   "execution_count": 70,
   "id": "56874095",
   "metadata": {},
   "outputs": [],
   "source": [
    "categorical = ['PUlocationID', 'DOlocationID']\n",
    "target = 'duration'\n",
    "\n",
    "dv = DictVectorizer()\n",
    "\n",
    "train_dicts = df_train[categorical].to_dict(orient='records')\n",
    "X_train = dv.fit_transform(train_dicts)\n",
    "y_train = df_train[target].values\n",
    "\n",
    "val_dicts = df_val[categorical].to_dict(orient='records')\n",
    "X_val = dv.transform(val_dicts)\n",
    "y_val = df_val[target].values\n"
   ]
  },
  {
   "cell_type": "code",
   "execution_count": 71,
   "id": "96b61165",
   "metadata": {},
   "outputs": [
    {
     "data": {
      "text/plain": [
       "525"
      ]
     },
     "execution_count": 71,
     "metadata": {},
     "output_type": "execute_result"
    }
   ],
   "source": [
    "X_train.shape[1]"
   ]
  },
  {
   "cell_type": "markdown",
   "id": "80cce638",
   "metadata": {},
   "source": [
    "Dimensionality of this matrix is 525"
   ]
  },
  {
   "cell_type": "code",
   "execution_count": 72,
   "id": "ad5c9e8e",
   "metadata": {},
   "outputs": [
    {
     "data": {
      "text/plain": [
       "10.528519107204893"
      ]
     },
     "execution_count": 72,
     "metadata": {},
     "output_type": "execute_result"
    }
   ],
   "source": [
    "l = LinearRegression()\n",
    "l.fit(X_train, y_train)\n",
    "\n",
    "y_pred = l.predict(X_train)\n",
    "mean_squared_error(y_pred, y_train, squared=False)"
   ]
  },
  {
   "cell_type": "markdown",
   "id": "431cad5f",
   "metadata": {},
   "source": [
    "RMSE on train is 10.52"
   ]
  },
  {
   "cell_type": "code",
   "execution_count": 73,
   "id": "fdeb88a6",
   "metadata": {},
   "outputs": [
    {
     "data": {
      "text/plain": [
       "11.014283140085958"
      ]
     },
     "execution_count": 73,
     "metadata": {},
     "output_type": "execute_result"
    }
   ],
   "source": [
    "y_pred = l.predict(X_val)\n",
    "mean_squared_error(y_pred, y_val, squared=False)"
   ]
  },
  {
   "cell_type": "markdown",
   "id": "ffb7a1d0",
   "metadata": {},
   "source": [
    "RMSE on validation is 11.01"
   ]
  }
 ],
 "metadata": {
  "kernelspec": {
   "display_name": "Python 3 (ipykernel)",
   "language": "python",
   "name": "python3"
  },
  "language_info": {
   "codemirror_mode": {
    "name": "ipython",
    "version": 3
   },
   "file_extension": ".py",
   "mimetype": "text/x-python",
   "name": "python",
   "nbconvert_exporter": "python",
   "pygments_lexer": "ipython3",
   "version": "3.9.12"
  }
 },
 "nbformat": 4,
 "nbformat_minor": 5
}
